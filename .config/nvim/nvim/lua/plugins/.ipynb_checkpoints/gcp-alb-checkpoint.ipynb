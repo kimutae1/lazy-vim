{
 "cells": [
  {
   "cell_type": "code",
   "execution_count": 4,
   "id": "c1751fa2-2bf6-492e-8c63-0c490d75b692",
   "metadata": {},
   "outputs": [],
   "source": [
    "from diagrams import Diagram, Edge, Cluster\n",
    "from diagrams.gcp.network import LoadBalancing, DNS , Armor, FirewallRules\n",
    "from diagrams.gcp.operations import Monitoring\n",
    "from diagrams.gcp.compute import ComputeEngine\n",
    "from diagrams.onprem.client import Users\n",
    "\n",
    "with Diagram(\"GCP ALB Architecture\", show=True, direction=\"LR\"):\n",
    " users = Users(\"http://sub.domain.com\")\n",
    " with Cluster(\"GCP\"):\n",
    "   FirewallRules = FirewallRules(\"F/W\")\n",
    "   with Cluster(\"GCP Global network\"):\n",
    "    dns = DNS(\"Cloud DNS\")\n",
    "    with Cluster(\"Application LoadBalancing\"):\n",
    "        am = Armor(\"Cloud Armor\")\n",
    "        redirect = LoadBalancing(\"redirect Front 80\")\n",
    "        frtlb = LoadBalancing(\"Front 443\")\n",
    "        backlb = LoadBalancing(\"BackEnd\")\n",
    "\n",
    "   with Cluster(\"VPC\"):\n",
    "      with Cluster(\"Instance Group\"):\n",
    "        server = ComputeEngine(\"tableau VM\")\n",
    "        with Cluster(\"Health Check\"):\n",
    "         hc = Monitoring(\"Health Check\")\n",
    "\n",
    "      \n",
    "      # HTTP to HTTPS 리다이렉트\n",
    "  #Edge(label=\"HTTP (80)\") >> redirect\n",
    "   \n",
    "   frtlb >> am \n",
    "   users >> dns\n",
    " #dns >> redirect   \n",
    "   redirect >> Edge(label=\"80 to 443\") >> frtlb\n",
    "   am >> backlb\n",
    "   hc >> server\n",
    "   backlb >> Edge(label=\"HTTP(80 8850 81)\") >> hc\n",
    "   dns >> redirect\n",
    "  #FirewallRules >> hc\n",
    " # FirewallRules >> redirect"
   ]
  },
  {
   "cell_type": "raw",
   "id": "c7f7eab4-ac15-4729-8b02-c5129ef628f1",
   "metadata": {
    "collapsed": true,
    "jupyter": {
     "outputs_hidden": true
    }
   },
   "source": []
  }
 ],
 "metadata": {
  "kernelspec": {
   "display_name": "Python 3 (ipykernel)",
   "language": "python",
   "name": "python3"
  },
  "language_info": {
   "codemirror_mode": {
    "name": "ipython",
    "version": 3
   },
   "file_extension": ".py",
   "mimetype": "text/x-python",
   "name": "python",
   "nbconvert_exporter": "python",
   "pygments_lexer": "ipython3",
   "version": "3.8.0"
  }
 },
 "nbformat": 4,
 "nbformat_minor": 5
}
